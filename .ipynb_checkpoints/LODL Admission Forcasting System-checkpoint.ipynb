{
 "cells": [
  {
   "cell_type": "code",
   "execution_count": 8,
   "id": "7e423f1f",
   "metadata": {},
   "outputs": [
    {
     "data": {
      "text/html": [
       "<div>\n",
       "<style scoped>\n",
       "    .dataframe tbody tr th:only-of-type {\n",
       "        vertical-align: middle;\n",
       "    }\n",
       "\n",
       "    .dataframe tbody tr th {\n",
       "        vertical-align: top;\n",
       "    }\n",
       "\n",
       "    .dataframe thead th {\n",
       "        text-align: right;\n",
       "    }\n",
       "</style>\n",
       "<table border=\"1\" class=\"dataframe\">\n",
       "  <thead>\n",
       "    <tr style=\"text-align: right;\">\n",
       "      <th></th>\n",
       "      <th>Timestamp</th>\n",
       "      <th>Full Name</th>\n",
       "      <th>Age</th>\n",
       "      <th>Gender</th>\n",
       "      <th>Admission Category</th>\n",
       "      <th>Course Applied For ( in FULL )</th>\n",
       "      <th>O Level Result Used</th>\n",
       "      <th>POST UTME SCREENING RESULT</th>\n",
       "      <th>Admitted</th>\n",
       "    </tr>\n",
       "  </thead>\n",
       "  <tbody>\n",
       "    <tr>\n",
       "      <th>0</th>\n",
       "      <td>9/15/2023 20:14</td>\n",
       "      <td>Olatoye Olaide Gabriel</td>\n",
       "      <td>23</td>\n",
       "      <td>Male</td>\n",
       "      <td>Four Years</td>\n",
       "      <td>Computer Science</td>\n",
       "      <td>NECO</td>\n",
       "      <td>60.0</td>\n",
       "      <td>Yes</td>\n",
       "    </tr>\n",
       "    <tr>\n",
       "      <th>1</th>\n",
       "      <td>9/16/2023 13:58</td>\n",
       "      <td>Adewumi Oluwapelumi Emmanuel</td>\n",
       "      <td>20</td>\n",
       "      <td>Male</td>\n",
       "      <td>Two Years</td>\n",
       "      <td>Computer Science</td>\n",
       "      <td>WAEC</td>\n",
       "      <td>70.6</td>\n",
       "      <td>Yes</td>\n",
       "    </tr>\n",
       "    <tr>\n",
       "      <th>2</th>\n",
       "      <td>9/16/2023 14:24</td>\n",
       "      <td>Adebayo Victoria Feranmi</td>\n",
       "      <td>20</td>\n",
       "      <td>Female</td>\n",
       "      <td>Four Years</td>\n",
       "      <td>Computer science</td>\n",
       "      <td>WAEC</td>\n",
       "      <td>60.0</td>\n",
       "      <td>Yes</td>\n",
       "    </tr>\n",
       "    <tr>\n",
       "      <th>3</th>\n",
       "      <td>9/16/2023 14:24</td>\n",
       "      <td>Adekunle abiola</td>\n",
       "      <td>21</td>\n",
       "      <td>Female</td>\n",
       "      <td>Four Years</td>\n",
       "      <td>Computer science</td>\n",
       "      <td>WAEC</td>\n",
       "      <td>68.0</td>\n",
       "      <td>Yes</td>\n",
       "    </tr>\n",
       "    <tr>\n",
       "      <th>4</th>\n",
       "      <td>9/16/2023 14:34</td>\n",
       "      <td>Abdulrasaq waheed alabi</td>\n",
       "      <td>23</td>\n",
       "      <td>Male</td>\n",
       "      <td>Four Years</td>\n",
       "      <td>Computer science</td>\n",
       "      <td>NECO</td>\n",
       "      <td>70.5</td>\n",
       "      <td>Yes</td>\n",
       "    </tr>\n",
       "    <tr>\n",
       "      <th>...</th>\n",
       "      <td>...</td>\n",
       "      <td>...</td>\n",
       "      <td>...</td>\n",
       "      <td>...</td>\n",
       "      <td>...</td>\n",
       "      <td>...</td>\n",
       "      <td>...</td>\n",
       "      <td>...</td>\n",
       "      <td>...</td>\n",
       "    </tr>\n",
       "    <tr>\n",
       "      <th>94</th>\n",
       "      <td>12/26/2023 12:56</td>\n",
       "      <td>OYEBIMPE DANIELLA</td>\n",
       "      <td>18</td>\n",
       "      <td>FEMALE</td>\n",
       "      <td>Four Years</td>\n",
       "      <td>Agricultural Extension</td>\n",
       "      <td>WAEC</td>\n",
       "      <td>79.0</td>\n",
       "      <td>Yes</td>\n",
       "    </tr>\n",
       "    <tr>\n",
       "      <th>95</th>\n",
       "      <td>12/26/2023 12:56</td>\n",
       "      <td>FADARE ANEEF</td>\n",
       "      <td>23</td>\n",
       "      <td>MALE</td>\n",
       "      <td>Four Years</td>\n",
       "      <td>Agricultural Extension</td>\n",
       "      <td>WAEC</td>\n",
       "      <td>46.0</td>\n",
       "      <td>No</td>\n",
       "    </tr>\n",
       "    <tr>\n",
       "      <th>96</th>\n",
       "      <td>12/26/2023 12:56</td>\n",
       "      <td>OLUWASEUN IFEMADE</td>\n",
       "      <td>18</td>\n",
       "      <td>FEMALE</td>\n",
       "      <td>Four Years</td>\n",
       "      <td>Agricultural Extension</td>\n",
       "      <td>WAEC</td>\n",
       "      <td>56.0</td>\n",
       "      <td>Yes</td>\n",
       "    </tr>\n",
       "    <tr>\n",
       "      <th>97</th>\n",
       "      <td>12/26/2023 12:56</td>\n",
       "      <td>OJUAWO IREMIDE</td>\n",
       "      <td>18</td>\n",
       "      <td>MALE</td>\n",
       "      <td>Four Years</td>\n",
       "      <td>Agricultural Extension</td>\n",
       "      <td>WAEC</td>\n",
       "      <td>39.0</td>\n",
       "      <td>No</td>\n",
       "    </tr>\n",
       "    <tr>\n",
       "      <th>98</th>\n",
       "      <td>12/26/2023 12:56</td>\n",
       "      <td>KELECHI JOSEPH</td>\n",
       "      <td>23</td>\n",
       "      <td>MALE</td>\n",
       "      <td>Four Years</td>\n",
       "      <td>Agricultural Extension</td>\n",
       "      <td>WAEC</td>\n",
       "      <td>79.0</td>\n",
       "      <td>Yes</td>\n",
       "    </tr>\n",
       "  </tbody>\n",
       "</table>\n",
       "<p>99 rows × 9 columns</p>\n",
       "</div>"
      ],
      "text/plain": [
       "           Timestamp                      Full Name  Age  Gender  \\\n",
       "0    9/15/2023 20:14         Olatoye Olaide Gabriel   23    Male   \n",
       "1    9/16/2023 13:58  Adewumi Oluwapelumi Emmanuel    20    Male   \n",
       "2    9/16/2023 14:24       Adebayo Victoria Feranmi   20  Female   \n",
       "3    9/16/2023 14:24                Adekunle abiola   21  Female   \n",
       "4    9/16/2023 14:34        Abdulrasaq waheed alabi   23    Male   \n",
       "..               ...                            ...  ...     ...   \n",
       "94  12/26/2023 12:56              OYEBIMPE DANIELLA   18  FEMALE   \n",
       "95  12/26/2023 12:56                   FADARE ANEEF   23    MALE   \n",
       "96  12/26/2023 12:56              OLUWASEUN IFEMADE   18  FEMALE   \n",
       "97  12/26/2023 12:56                 OJUAWO IREMIDE   18    MALE   \n",
       "98  12/26/2023 12:56                KELECHI JOSEPH    23    MALE   \n",
       "\n",
       "   Admission Category Course Applied For ( in FULL ) O Level Result Used  \\\n",
       "0          Four Years               Computer Science                NECO   \n",
       "1           Two Years               Computer Science                WAEC   \n",
       "2          Four Years              Computer science                 WAEC   \n",
       "3          Four Years              Computer science                 WAEC   \n",
       "4          Four Years              Computer science                 NECO   \n",
       "..                ...                            ...                 ...   \n",
       "94         Four Years         Agricultural Extension                WAEC   \n",
       "95         Four Years         Agricultural Extension                WAEC   \n",
       "96         Four Years         Agricultural Extension                WAEC   \n",
       "97         Four Years         Agricultural Extension                WAEC   \n",
       "98         Four Years         Agricultural Extension                WAEC   \n",
       "\n",
       "    POST UTME SCREENING RESULT Admitted   \n",
       "0                         60.0       Yes  \n",
       "1                         70.6       Yes  \n",
       "2                         60.0       Yes  \n",
       "3                         68.0       Yes  \n",
       "4                         70.5       Yes  \n",
       "..                         ...       ...  \n",
       "94                        79.0       Yes  \n",
       "95                        46.0        No  \n",
       "96                        56.0       Yes  \n",
       "97                        39.0        No  \n",
       "98                        79.0       Yes  \n",
       "\n",
       "[99 rows x 9 columns]"
      ]
     },
     "metadata": {},
     "output_type": "display_data"
    },
    {
     "data": {
      "text/html": [
       "<div>\n",
       "<style scoped>\n",
       "    .dataframe tbody tr th:only-of-type {\n",
       "        vertical-align: middle;\n",
       "    }\n",
       "\n",
       "    .dataframe tbody tr th {\n",
       "        vertical-align: top;\n",
       "    }\n",
       "\n",
       "    .dataframe thead th {\n",
       "        text-align: right;\n",
       "    }\n",
       "</style>\n",
       "<table border=\"1\" class=\"dataframe\">\n",
       "  <thead>\n",
       "    <tr style=\"text-align: right;\">\n",
       "      <th></th>\n",
       "      <th>Age</th>\n",
       "      <th>POST UTME SCREENING RESULT</th>\n",
       "    </tr>\n",
       "  </thead>\n",
       "  <tbody>\n",
       "    <tr>\n",
       "      <th>count</th>\n",
       "      <td>99.000000</td>\n",
       "      <td>89.000000</td>\n",
       "    </tr>\n",
       "    <tr>\n",
       "      <th>mean</th>\n",
       "      <td>20.272727</td>\n",
       "      <td>57.933258</td>\n",
       "    </tr>\n",
       "    <tr>\n",
       "      <th>std</th>\n",
       "      <td>2.014327</td>\n",
       "      <td>12.545015</td>\n",
       "    </tr>\n",
       "    <tr>\n",
       "      <th>min</th>\n",
       "      <td>17.000000</td>\n",
       "      <td>23.000000</td>\n",
       "    </tr>\n",
       "    <tr>\n",
       "      <th>25%</th>\n",
       "      <td>19.000000</td>\n",
       "      <td>50.000000</td>\n",
       "    </tr>\n",
       "    <tr>\n",
       "      <th>50%</th>\n",
       "      <td>20.000000</td>\n",
       "      <td>56.600000</td>\n",
       "    </tr>\n",
       "    <tr>\n",
       "      <th>75%</th>\n",
       "      <td>22.000000</td>\n",
       "      <td>68.500000</td>\n",
       "    </tr>\n",
       "    <tr>\n",
       "      <th>max</th>\n",
       "      <td>23.000000</td>\n",
       "      <td>90.200000</td>\n",
       "    </tr>\n",
       "  </tbody>\n",
       "</table>\n",
       "</div>"
      ],
      "text/plain": [
       "             Age  POST UTME SCREENING RESULT\n",
       "count  99.000000                   89.000000\n",
       "mean   20.272727                   57.933258\n",
       "std     2.014327                   12.545015\n",
       "min    17.000000                   23.000000\n",
       "25%    19.000000                   50.000000\n",
       "50%    20.000000                   56.600000\n",
       "75%    22.000000                   68.500000\n",
       "max    23.000000                   90.200000"
      ]
     },
     "metadata": {},
     "output_type": "display_data"
    }
   ],
   "source": [
    "#Step 1\n",
    "#importing the libraries\n",
    "import pandas as pd\n",
    "pd.set_option('display.max_columns', None)\n",
    "import numpy as np\n",
    "import matplotlib.pyplot as plt\n",
    "\n",
    "data = pd.read_csv(\"Data.csv\")\n",
    "display(data)\n",
    "display( data.describe() )\n",
    "dataset = data.iloc[ : , 2: ]\n"
   ]
  },
  {
   "cell_type": "code",
   "execution_count": 9,
   "id": "10fee3fb",
   "metadata": {},
   "outputs": [
    {
     "data": {
      "text/html": [
       "<div>\n",
       "<style scoped>\n",
       "    .dataframe tbody tr th:only-of-type {\n",
       "        vertical-align: middle;\n",
       "    }\n",
       "\n",
       "    .dataframe tbody tr th {\n",
       "        vertical-align: top;\n",
       "    }\n",
       "\n",
       "    .dataframe thead th {\n",
       "        text-align: right;\n",
       "    }\n",
       "</style>\n",
       "<table border=\"1\" class=\"dataframe\">\n",
       "  <thead>\n",
       "    <tr style=\"text-align: right;\">\n",
       "      <th></th>\n",
       "      <th>Age</th>\n",
       "      <th>Gender</th>\n",
       "      <th>Admission Category</th>\n",
       "      <th>Course Applied For ( in FULL )</th>\n",
       "      <th>O Level Result Used</th>\n",
       "      <th>POST UTME SCREENING RESULT</th>\n",
       "      <th>Admitted</th>\n",
       "    </tr>\n",
       "  </thead>\n",
       "  <tbody>\n",
       "    <tr>\n",
       "      <th>0</th>\n",
       "      <td>23</td>\n",
       "      <td>Male</td>\n",
       "      <td>Four Years</td>\n",
       "      <td>Computer Science</td>\n",
       "      <td>NECO</td>\n",
       "      <td>60.0</td>\n",
       "      <td>Yes</td>\n",
       "    </tr>\n",
       "    <tr>\n",
       "      <th>1</th>\n",
       "      <td>20</td>\n",
       "      <td>Male</td>\n",
       "      <td>Two Years</td>\n",
       "      <td>Computer Science</td>\n",
       "      <td>WAEC</td>\n",
       "      <td>70.6</td>\n",
       "      <td>Yes</td>\n",
       "    </tr>\n",
       "    <tr>\n",
       "      <th>2</th>\n",
       "      <td>20</td>\n",
       "      <td>Female</td>\n",
       "      <td>Four Years</td>\n",
       "      <td>Computer science</td>\n",
       "      <td>WAEC</td>\n",
       "      <td>60.0</td>\n",
       "      <td>Yes</td>\n",
       "    </tr>\n",
       "    <tr>\n",
       "      <th>3</th>\n",
       "      <td>21</td>\n",
       "      <td>Female</td>\n",
       "      <td>Four Years</td>\n",
       "      <td>Computer science</td>\n",
       "      <td>WAEC</td>\n",
       "      <td>68.0</td>\n",
       "      <td>Yes</td>\n",
       "    </tr>\n",
       "    <tr>\n",
       "      <th>4</th>\n",
       "      <td>23</td>\n",
       "      <td>Male</td>\n",
       "      <td>Four Years</td>\n",
       "      <td>Computer science</td>\n",
       "      <td>NECO</td>\n",
       "      <td>70.5</td>\n",
       "      <td>Yes</td>\n",
       "    </tr>\n",
       "    <tr>\n",
       "      <th>...</th>\n",
       "      <td>...</td>\n",
       "      <td>...</td>\n",
       "      <td>...</td>\n",
       "      <td>...</td>\n",
       "      <td>...</td>\n",
       "      <td>...</td>\n",
       "      <td>...</td>\n",
       "    </tr>\n",
       "    <tr>\n",
       "      <th>94</th>\n",
       "      <td>18</td>\n",
       "      <td>FEMALE</td>\n",
       "      <td>Four Years</td>\n",
       "      <td>Agricultural Extension</td>\n",
       "      <td>WAEC</td>\n",
       "      <td>79.0</td>\n",
       "      <td>Yes</td>\n",
       "    </tr>\n",
       "    <tr>\n",
       "      <th>95</th>\n",
       "      <td>23</td>\n",
       "      <td>MALE</td>\n",
       "      <td>Four Years</td>\n",
       "      <td>Agricultural Extension</td>\n",
       "      <td>WAEC</td>\n",
       "      <td>46.0</td>\n",
       "      <td>No</td>\n",
       "    </tr>\n",
       "    <tr>\n",
       "      <th>96</th>\n",
       "      <td>18</td>\n",
       "      <td>FEMALE</td>\n",
       "      <td>Four Years</td>\n",
       "      <td>Agricultural Extension</td>\n",
       "      <td>WAEC</td>\n",
       "      <td>56.0</td>\n",
       "      <td>Yes</td>\n",
       "    </tr>\n",
       "    <tr>\n",
       "      <th>97</th>\n",
       "      <td>18</td>\n",
       "      <td>MALE</td>\n",
       "      <td>Four Years</td>\n",
       "      <td>Agricultural Extension</td>\n",
       "      <td>WAEC</td>\n",
       "      <td>39.0</td>\n",
       "      <td>No</td>\n",
       "    </tr>\n",
       "    <tr>\n",
       "      <th>98</th>\n",
       "      <td>23</td>\n",
       "      <td>MALE</td>\n",
       "      <td>Four Years</td>\n",
       "      <td>Agricultural Extension</td>\n",
       "      <td>WAEC</td>\n",
       "      <td>79.0</td>\n",
       "      <td>Yes</td>\n",
       "    </tr>\n",
       "  </tbody>\n",
       "</table>\n",
       "<p>99 rows × 7 columns</p>\n",
       "</div>"
      ],
      "text/plain": [
       "    Age  Gender Admission Category Course Applied For ( in FULL )  \\\n",
       "0    23    Male         Four Years               Computer Science   \n",
       "1    20    Male          Two Years               Computer Science   \n",
       "2    20  Female         Four Years              Computer science    \n",
       "3    21  Female         Four Years              Computer science    \n",
       "4    23    Male         Four Years              Computer science    \n",
       "..  ...     ...                ...                            ...   \n",
       "94   18  FEMALE         Four Years         Agricultural Extension   \n",
       "95   23    MALE         Four Years         Agricultural Extension   \n",
       "96   18  FEMALE         Four Years         Agricultural Extension   \n",
       "97   18    MALE         Four Years         Agricultural Extension   \n",
       "98   23    MALE         Four Years         Agricultural Extension   \n",
       "\n",
       "   O Level Result Used  POST UTME SCREENING RESULT Admitted   \n",
       "0                 NECO                        60.0       Yes  \n",
       "1                 WAEC                        70.6       Yes  \n",
       "2                 WAEC                        60.0       Yes  \n",
       "3                 WAEC                        68.0       Yes  \n",
       "4                 NECO                        70.5       Yes  \n",
       "..                 ...                         ...       ...  \n",
       "94                WAEC                        79.0       Yes  \n",
       "95                WAEC                        46.0        No  \n",
       "96                WAEC                        56.0       Yes  \n",
       "97                WAEC                        39.0        No  \n",
       "98                WAEC                        79.0       Yes  \n",
       "\n",
       "[99 rows x 7 columns]"
      ]
     },
     "metadata": {},
     "output_type": "display_data"
    }
   ],
   "source": [
    "# Step 2 \n",
    "# Data preprocessing\n",
    "from sklearn.impute import SimpleImputer\n",
    "imputer = SimpleImputer(missing_values=np.nan , strategy=\"mean\")\n",
    "dataset.iloc[ : , -2] = imputer.fit_transform(dataset.iloc[ : , -2].values.reshape(-1,1))\n",
    "display(dataset)\n",
    "\n"
   ]
  },
  {
   "cell_type": "code",
   "execution_count": 10,
   "id": "c60a8053",
   "metadata": {},
   "outputs": [],
   "source": [
    "#Step 3 encoding categorical data\n",
    "from sklearn.preprocessing import LabelEncoder \n",
    "#Encoding gender column\n",
    "dataset.iloc[ : , 1] = [ gender.lower() for gender in dataset.iloc[: , 1] ]\n",
    "from sklearn.compose import ColumnTransformer\n",
    "from sklearn.preprocessing import OneHotEncoder\n",
    "ct_gen = ColumnTransformer([(\"Gender\" , OneHotEncoder() , [1])] , remainder='passthrough')\n",
    "ct_gen.fit(dataset)\n",
    "dataset = ct_gen.transform(dataset)\n",
    "\n",
    "\n",
    "#Encoding Admission category\n",
    "dataset[ : , 3] = [ ac.lower() for ac in dataset[ : , 3] ]\n",
    "from sklearn.compose import ColumnTransformer\n",
    "from sklearn.preprocessing import OneHotEncoder\n",
    "ct_ac = ColumnTransformer([(\"Admission Category\" , OneHotEncoder() , [3])] , remainder='passthrough')\n",
    "ct_ac.fit(dataset)\n",
    "dataset = ct_ac.transform(dataset)"
   ]
  },
  {
   "cell_type": "code",
   "execution_count": 11,
   "id": "af704753",
   "metadata": {},
   "outputs": [
    {
     "data": {
      "text/plain": [
       "array([[0.0, 1.0, 0.0, 0.0, 0.0, 1.0, 23, 60.0],\n",
       "       [0.0, 0.0, 0.0, 1.0, 0.0, 1.0, 20, 70.6],\n",
       "       [0.0, 1.0, 0.0, 0.0, 1.0, 0.0, 20, 60.0],\n",
       "       [0.0, 1.0, 0.0, 0.0, 1.0, 0.0, 21, 68.0],\n",
       "       [0.0, 1.0, 0.0, 0.0, 0.0, 1.0, 23, 70.5],\n",
       "       [0.0, 1.0, 0.0, 0.0, 1.0, 0.0, 22, 50.9],\n",
       "       [0.0, 0.0, 1.0, 0.0, 0.0, 1.0, 22, 50.0],\n",
       "       [0.0, 0.0, 0.0, 1.0, 1.0, 0.0, 17, 60.0],\n",
       "       [0.0, 0.0, 1.0, 0.0, 1.0, 0.0, 20, 78.9],\n",
       "       [0.0, 1.0, 0.0, 0.0, 1.0, 0.0, 21, 60.9],\n",
       "       [0.0, 1.0, 0.0, 0.0, 1.0, 0.0, 19, 57.9332584269663],\n",
       "       [0.0, 1.0, 0.0, 0.0, 1.0, 0.0, 17, 57.9332584269663],\n",
       "       [0.0, 0.0, 0.0, 1.0, 0.0, 1.0, 23, 57.9332584269663],\n",
       "       [0.0, 1.0, 0.0, 0.0, 1.0, 0.0, 23, 57.9332584269663],\n",
       "       [0.0, 1.0, 0.0, 0.0, 0.0, 1.0, 22, 50.0],\n",
       "       [0.0, 0.0, 1.0, 0.0, 1.0, 0.0, 20, 60.0],\n",
       "       [0.0, 0.0, 0.0, 1.0, 1.0, 0.0, 20, 60.5],\n",
       "       [0.0, 1.0, 0.0, 0.0, 1.0, 0.0, 19, 78.5],\n",
       "       [0.0, 1.0, 0.0, 0.0, 0.0, 1.0, 22, 57.9332584269663],\n",
       "       [0.0, 0.0, 0.0, 1.0, 1.0, 0.0, 17, 50.0],\n",
       "       [0.0, 1.0, 0.0, 0.0, 1.0, 0.0, 23, 57.9332584269663],\n",
       "       [0.0, 1.0, 0.0, 0.0, 0.0, 1.0, 21, 70.0],\n",
       "       [0.0, 0.0, 1.0, 0.0, 0.0, 1.0, 21, 90.2],\n",
       "       [0.0, 1.0, 0.0, 0.0, 1.0, 0.0, 19, 69.76],\n",
       "       [0.0, 0.0, 0.0, 1.0, 1.0, 0.0, 18, 50.9],\n",
       "       [0.0, 1.0, 0.0, 0.0, 1.0, 0.0, 21, 70.5],\n",
       "       [0.0, 0.0, 1.0, 0.0, 1.0, 0.0, 17, 50.9],\n",
       "       [0.0, 0.0, 1.0, 0.0, 1.0, 0.0, 22, 50.0],\n",
       "       [0.0, 1.0, 0.0, 0.0, 0.0, 1.0, 19, 55.1],\n",
       "       [0.0, 1.0, 0.0, 0.0, 0.0, 1.0, 21, 70.5],\n",
       "       [0.0, 0.0, 1.0, 0.0, 0.0, 1.0, 19, 50.0],\n",
       "       [0.0, 1.0, 0.0, 0.0, 1.0, 0.0, 20, 50.9],\n",
       "       [0.0, 0.0, 1.0, 0.0, 0.0, 1.0, 21, 70.0],\n",
       "       [0.0, 0.0, 0.0, 1.0, 0.0, 1.0, 22, 50.0],\n",
       "       [0.0, 1.0, 0.0, 0.0, 1.0, 0.0, 20, 60.0],\n",
       "       [0.0, 1.0, 0.0, 0.0, 1.0, 0.0, 23, 57.9332584269663],\n",
       "       [0.0, 1.0, 0.0, 0.0, 0.0, 1.0, 21, 70.5],\n",
       "       [0.0, 0.0, 1.0, 0.0, 0.0, 1.0, 19, 56.5],\n",
       "       [0.0, 0.0, 1.0, 0.0, 0.0, 1.0, 23, 65.0],\n",
       "       [0.0, 1.0, 0.0, 0.0, 0.0, 1.0, 17, 68.5],\n",
       "       [0.0, 0.0, 0.0, 1.0, 0.0, 1.0, 20, 70.0],\n",
       "       [0.0, 0.0, 1.0, 0.0, 0.0, 1.0, 22, 57.9332584269663],\n",
       "       [0.0, 1.0, 0.0, 0.0, 0.0, 1.0, 17, 75.9],\n",
       "       [0.0, 1.0, 0.0, 0.0, 1.0, 0.0, 19, 57.9332584269663],\n",
       "       [0.0, 0.0, 1.0, 0.0, 1.0, 0.0, 20, 50.1],\n",
       "       [0.0, 1.0, 0.0, 0.0, 1.0, 0.0, 23, 60.0],\n",
       "       [0.0, 1.0, 0.0, 0.0, 0.0, 1.0, 22, 44.0],\n",
       "       [0.0, 1.0, 0.0, 0.0, 0.0, 1.0, 23, 57.9332584269663],\n",
       "       [0.0, 1.0, 0.0, 0.0, 0.0, 1.0, 17, 44.0],\n",
       "       [0.0, 1.0, 0.0, 0.0, 1.0, 0.0, 21, 49.8],\n",
       "       [0.0, 1.0, 0.0, 0.0, 1.0, 0.0, 22, 63.7],\n",
       "       [0.0, 1.0, 0.0, 0.0, 0.0, 1.0, 22, 45.9],\n",
       "       [0.0, 1.0, 0.0, 0.0, 0.0, 1.0, 23, 50.9],\n",
       "       [0.0, 1.0, 0.0, 0.0, 1.0, 0.0, 23, 46.4],\n",
       "       [0.0, 1.0, 0.0, 0.0, 0.0, 1.0, 22, 53.1],\n",
       "       [1.0, 0.0, 0.0, 0.0, 1.0, 0.0, 20, 64.2],\n",
       "       [0.0, 0.0, 0.0, 1.0, 0.0, 1.0, 22, 60.4],\n",
       "       [1.0, 0.0, 0.0, 0.0, 1.0, 0.0, 23, 71.4],\n",
       "       [0.0, 1.0, 0.0, 0.0, 0.0, 1.0, 17, 47.3],\n",
       "       [0.0, 0.0, 0.0, 1.0, 1.0, 0.0, 19, 62.7],\n",
       "       [0.0, 1.0, 0.0, 0.0, 0.0, 1.0, 21, 34.8],\n",
       "       [1.0, 0.0, 0.0, 0.0, 1.0, 0.0, 20, 37.9],\n",
       "       [1.0, 0.0, 0.0, 0.0, 0.0, 1.0, 18, 47.2],\n",
       "       [0.0, 1.0, 0.0, 0.0, 0.0, 1.0, 20, 45.6],\n",
       "       [0.0, 0.0, 1.0, 0.0, 1.0, 0.0, 19, 56.6],\n",
       "       [0.0, 1.0, 0.0, 0.0, 1.0, 0.0, 22, 34.9],\n",
       "       [0.0, 1.0, 0.0, 0.0, 1.0, 0.0, 22, 43.6],\n",
       "       [1.0, 0.0, 0.0, 0.0, 0.0, 1.0, 21, 64.3],\n",
       "       [1.0, 0.0, 0.0, 0.0, 0.0, 1.0, 22, 56.3],\n",
       "       [0.0, 1.0, 0.0, 0.0, 0.0, 1.0, 19, 75.0],\n",
       "       [0.0, 1.0, 0.0, 0.0, 1.0, 0.0, 20, 50.0],\n",
       "       [0.0, 0.0, 0.0, 1.0, 1.0, 0.0, 22, 65.0],\n",
       "       [0.0, 0.0, 0.0, 1.0, 1.0, 0.0, 18, 67.0],\n",
       "       [0.0, 1.0, 0.0, 0.0, 1.0, 0.0, 19, 43.0],\n",
       "       [0.0, 1.0, 0.0, 0.0, 0.0, 1.0, 18, 45.0],\n",
       "       [0.0, 1.0, 0.0, 0.0, 1.0, 0.0, 21, 39.0],\n",
       "       [0.0, 1.0, 0.0, 0.0, 1.0, 0.0, 21, 45.0],\n",
       "       [0.0, 1.0, 0.0, 0.0, 1.0, 0.0, 17, 23.0],\n",
       "       [0.0, 1.0, 0.0, 0.0, 1.0, 0.0, 22, 80.0],\n",
       "       [0.0, 1.0, 0.0, 0.0, 0.0, 1.0, 23, 59.0],\n",
       "       [0.0, 1.0, 0.0, 0.0, 0.0, 1.0, 17, 70.0],\n",
       "       [0.0, 1.0, 0.0, 0.0, 0.0, 1.0, 22, 55.0],\n",
       "       [0.0, 1.0, 0.0, 0.0, 1.0, 0.0, 22, 51.0],\n",
       "       [0.0, 1.0, 0.0, 0.0, 1.0, 0.0, 22, 54.0],\n",
       "       [0.0, 1.0, 0.0, 0.0, 0.0, 1.0, 22, 79.0],\n",
       "       [0.0, 1.0, 0.0, 0.0, 0.0, 1.0, 19, 67.0],\n",
       "       [0.0, 1.0, 0.0, 0.0, 1.0, 0.0, 17, 41.0],\n",
       "       [0.0, 1.0, 0.0, 0.0, 1.0, 0.0, 18, 58.0],\n",
       "       [0.0, 1.0, 0.0, 0.0, 1.0, 0.0, 17, 49.0],\n",
       "       [0.0, 1.0, 0.0, 0.0, 0.0, 1.0, 17, 76.0],\n",
       "       [0.0, 1.0, 0.0, 0.0, 0.0, 1.0, 20, 54.0],\n",
       "       [0.0, 1.0, 0.0, 0.0, 1.0, 0.0, 18, 54.0],\n",
       "       [0.0, 1.0, 0.0, 0.0, 0.0, 1.0, 18, 70.0],\n",
       "       [0.0, 1.0, 0.0, 0.0, 0.0, 1.0, 18, 59.0],\n",
       "       [0.0, 1.0, 0.0, 0.0, 1.0, 0.0, 18, 79.0],\n",
       "       [0.0, 1.0, 0.0, 0.0, 0.0, 1.0, 23, 46.0],\n",
       "       [0.0, 1.0, 0.0, 0.0, 1.0, 0.0, 18, 56.0],\n",
       "       [0.0, 1.0, 0.0, 0.0, 0.0, 1.0, 18, 39.0],\n",
       "       [0.0, 1.0, 0.0, 0.0, 0.0, 1.0, 23, 79.0]], dtype=object)"
      ]
     },
     "metadata": {},
     "output_type": "display_data"
    },
    {
     "data": {
      "text/plain": [
       "array([1, 1, 1, 1, 1, 1, 1, 1, 1, 1, 1, 1, 1, 1, 1, 1, 1, 1, 1, 1, 1, 1,\n",
       "       1, 1, 0, 1, 1, 0, 1, 1, 1, 1, 1, 1, 1, 1, 1, 1, 1, 1, 1, 1, 1, 1,\n",
       "       1, 1, 0, 1, 0, 1, 0, 0, 1, 0, 0, 1, 0, 1, 0, 1, 0, 0, 0, 1, 0, 1,\n",
       "       1, 0, 0, 1, 1, 1, 1, 1, 1, 1, 1, 0, 1, 0, 1, 0, 1, 0, 1, 0, 1, 0,\n",
       "       1, 0, 1, 0, 1, 0, 1, 0, 1, 0, 1])"
      ]
     },
     "metadata": {},
     "output_type": "display_data"
    }
   ],
   "source": [
    "#Step 4\n",
    "#Feature extraction \n",
    "X = dataset[ : , [0,1,2,3,4,5,6,9]]\n",
    "y = dataset[ : , -1]\n",
    "y = [ n.lower() for n in y ]\n",
    "from sklearn.preprocessing import LabelEncoder\n",
    "encoder = LabelEncoder()\n",
    "encoder.fit(y)\n",
    "y = encoder.transform(y)\n",
    "display(X , y)"
   ]
  },
  {
   "cell_type": "code",
   "execution_count": 12,
   "id": "cf676fed",
   "metadata": {},
   "outputs": [],
   "source": [
    "#Step 5\n",
    "# feature scaling \n",
    "from sklearn.preprocessing import StandardScaler\n",
    "sc_x = StandardScaler()\n",
    "sc_x.fit(X)\n",
    "X = sc_x.transform(X)\n"
   ]
  },
  {
   "cell_type": "code",
   "execution_count": 13,
   "id": "1d052950",
   "metadata": {},
   "outputs": [],
   "source": [
    "#Step 6\n",
    "# splitting the dataset into training set and testing set\n",
    "from sklearn.model_selection import train_test_split\n",
    "X_train , X_test, y_train , y_test = train_test_split(X , y, test_size=0.2 )\n"
   ]
  },
  {
   "cell_type": "code",
   "execution_count": 14,
   "id": "df8a2286",
   "metadata": {},
   "outputs": [
    {
     "data": {
      "text/html": [
       "<style>#sk-container-id-1 {color: black;background-color: white;}#sk-container-id-1 pre{padding: 0;}#sk-container-id-1 div.sk-toggleable {background-color: white;}#sk-container-id-1 label.sk-toggleable__label {cursor: pointer;display: block;width: 100%;margin-bottom: 0;padding: 0.3em;box-sizing: border-box;text-align: center;}#sk-container-id-1 label.sk-toggleable__label-arrow:before {content: \"▸\";float: left;margin-right: 0.25em;color: #696969;}#sk-container-id-1 label.sk-toggleable__label-arrow:hover:before {color: black;}#sk-container-id-1 div.sk-estimator:hover label.sk-toggleable__label-arrow:before {color: black;}#sk-container-id-1 div.sk-toggleable__content {max-height: 0;max-width: 0;overflow: hidden;text-align: left;background-color: #f0f8ff;}#sk-container-id-1 div.sk-toggleable__content pre {margin: 0.2em;color: black;border-radius: 0.25em;background-color: #f0f8ff;}#sk-container-id-1 input.sk-toggleable__control:checked~div.sk-toggleable__content {max-height: 200px;max-width: 100%;overflow: auto;}#sk-container-id-1 input.sk-toggleable__control:checked~label.sk-toggleable__label-arrow:before {content: \"▾\";}#sk-container-id-1 div.sk-estimator input.sk-toggleable__control:checked~label.sk-toggleable__label {background-color: #d4ebff;}#sk-container-id-1 div.sk-label input.sk-toggleable__control:checked~label.sk-toggleable__label {background-color: #d4ebff;}#sk-container-id-1 input.sk-hidden--visually {border: 0;clip: rect(1px 1px 1px 1px);clip: rect(1px, 1px, 1px, 1px);height: 1px;margin: -1px;overflow: hidden;padding: 0;position: absolute;width: 1px;}#sk-container-id-1 div.sk-estimator {font-family: monospace;background-color: #f0f8ff;border: 1px dotted black;border-radius: 0.25em;box-sizing: border-box;margin-bottom: 0.5em;}#sk-container-id-1 div.sk-estimator:hover {background-color: #d4ebff;}#sk-container-id-1 div.sk-parallel-item::after {content: \"\";width: 100%;border-bottom: 1px solid gray;flex-grow: 1;}#sk-container-id-1 div.sk-label:hover label.sk-toggleable__label {background-color: #d4ebff;}#sk-container-id-1 div.sk-serial::before {content: \"\";position: absolute;border-left: 1px solid gray;box-sizing: border-box;top: 0;bottom: 0;left: 50%;z-index: 0;}#sk-container-id-1 div.sk-serial {display: flex;flex-direction: column;align-items: center;background-color: white;padding-right: 0.2em;padding-left: 0.2em;position: relative;}#sk-container-id-1 div.sk-item {position: relative;z-index: 1;}#sk-container-id-1 div.sk-parallel {display: flex;align-items: stretch;justify-content: center;background-color: white;position: relative;}#sk-container-id-1 div.sk-item::before, #sk-container-id-1 div.sk-parallel-item::before {content: \"\";position: absolute;border-left: 1px solid gray;box-sizing: border-box;top: 0;bottom: 0;left: 50%;z-index: -1;}#sk-container-id-1 div.sk-parallel-item {display: flex;flex-direction: column;z-index: 1;position: relative;background-color: white;}#sk-container-id-1 div.sk-parallel-item:first-child::after {align-self: flex-end;width: 50%;}#sk-container-id-1 div.sk-parallel-item:last-child::after {align-self: flex-start;width: 50%;}#sk-container-id-1 div.sk-parallel-item:only-child::after {width: 0;}#sk-container-id-1 div.sk-dashed-wrapped {border: 1px dashed gray;margin: 0 0.4em 0.5em 0.4em;box-sizing: border-box;padding-bottom: 0.4em;background-color: white;}#sk-container-id-1 div.sk-label label {font-family: monospace;font-weight: bold;display: inline-block;line-height: 1.2em;}#sk-container-id-1 div.sk-label-container {text-align: center;}#sk-container-id-1 div.sk-container {/* jupyter's `normalize.less` sets `[hidden] { display: none; }` but bootstrap.min.css set `[hidden] { display: none !important; }` so we also need the `!important` here to be able to override the default hidden behavior on the sphinx rendered scikit-learn.org. See: https://github.com/scikit-learn/scikit-learn/issues/21755 */display: inline-block !important;position: relative;}#sk-container-id-1 div.sk-text-repr-fallback {display: none;}</style><div id=\"sk-container-id-1\" class=\"sk-top-container\"><div class=\"sk-text-repr-fallback\"><pre>LogisticRegression()</pre><b>In a Jupyter environment, please rerun this cell to show the HTML representation or trust the notebook. <br />On GitHub, the HTML representation is unable to render, please try loading this page with nbviewer.org.</b></div><div class=\"sk-container\" hidden><div class=\"sk-item\"><div class=\"sk-estimator sk-toggleable\"><input class=\"sk-toggleable__control sk-hidden--visually\" id=\"sk-estimator-id-1\" type=\"checkbox\" checked><label for=\"sk-estimator-id-1\" class=\"sk-toggleable__label sk-toggleable__label-arrow\">LogisticRegression</label><div class=\"sk-toggleable__content\"><pre>LogisticRegression()</pre></div></div></div></div></div>"
      ],
      "text/plain": [
       "LogisticRegression()"
      ]
     },
     "execution_count": 14,
     "metadata": {},
     "output_type": "execute_result"
    }
   ],
   "source": [
    "#Step 7\n",
    "#Building Logistic Regressor\n",
    "from sklearn.linear_model import LogisticRegression\n",
    "lgRegressor = LogisticRegression()\n",
    "lgRegressor.fit(X_train , y_train)\n"
   ]
  },
  {
   "cell_type": "code",
   "execution_count": 17,
   "id": "aca77f4b",
   "metadata": {},
   "outputs": [
    {
     "data": {
      "text/plain": [
       "'Predicted Values'"
      ]
     },
     "metadata": {},
     "output_type": "display_data"
    },
    {
     "data": {
      "text/plain": [
       "array([1, 1, 0, 1, 0, 1, 1, 0, 0, 1, 1, 1, 1, 1, 0, 1, 1, 1, 1, 1])"
      ]
     },
     "metadata": {},
     "output_type": "display_data"
    },
    {
     "data": {
      "text/plain": [
       "'Actual Values'"
      ]
     },
     "metadata": {},
     "output_type": "display_data"
    },
    {
     "data": {
      "text/plain": [
       "array([1, 0, 1, 1, 0, 0, 0, 0, 1, 1, 1, 0, 1, 0, 0, 1, 1, 1, 1, 1])"
      ]
     },
     "metadata": {},
     "output_type": "display_data"
    }
   ],
   "source": [
    "#Step 8, testing the model with test dataset\n",
    "y_pred = lgRegressor.predict(X_test)\n",
    "\n",
    "display(\"Predicted Values\" , y_pred)\n",
    "display(\"Actual Values\" , y_test)"
   ]
  },
  {
   "cell_type": "code",
   "execution_count": 11,
   "id": "801a0d9c",
   "metadata": {},
   "outputs": [
    {
     "data": {
      "image/png": "[encoded data removed]",
      "text/plain": [
       "<Figure size 640x480 with 2 Axes>"
      ]
     },
     "metadata": {},
     "output_type": "display_data"
    }
   ],
   "source": [
    "# Accuracy / Metric comparison \n",
    "from sklearn.metrics import confusion_matrix , accuracy_score\n",
    "import seaborn as sns\n",
    "cm = confusion_matrix(y_test, y_pred)\n",
    "lgscore  = accuracy_score(y_test, y_pred)\n",
    "# Plot confusion matrix\n",
    "confusion_matrix_ = pd.crosstab(y_test, y_pred, rownames=['Actual'], colnames=['Predicted'])\n",
    "sns.heatmap(confusion_matrix_, fmt='d')\n",
    "plt.title('Confusion Matrix - Logistic Regression')\n",
    "plt.show()"
   ]
  },
  {
   "cell_type": "code",
   "execution_count": 12,
   "id": "dd47f813",
   "metadata": {},
   "outputs": [
    {
     "data": {
      "text/html": [
       "<style>#sk-container-id-2 {color: black;background-color: white;}#sk-container-id-2 pre{padding: 0;}#sk-container-id-2 div.sk-toggleable {background-color: white;}#sk-container-id-2 label.sk-toggleable__label {cursor: pointer;display: block;width: 100%;margin-bottom: 0;padding: 0.3em;box-sizing: border-box;text-align: center;}#sk-container-id-2 label.sk-toggleable__label-arrow:before {content: \"▸\";float: left;margin-right: 0.25em;color: #696969;}#sk-container-id-2 label.sk-toggleable__label-arrow:hover:before {color: black;}#sk-container-id-2 div.sk-estimator:hover label.sk-toggleable__label-arrow:before {color: black;}#sk-container-id-2 div.sk-toggleable__content {max-height: 0;max-width: 0;overflow: hidden;text-align: left;background-color: #f0f8ff;}#sk-container-id-2 div.sk-toggleable__content pre {margin: 0.2em;color: black;border-radius: 0.25em;background-color: #f0f8ff;}#sk-container-id-2 input.sk-toggleable__control:checked~div.sk-toggleable__content {max-height: 200px;max-width: 100%;overflow: auto;}#sk-container-id-2 input.sk-toggleable__control:checked~label.sk-toggleable__label-arrow:before {content: \"▾\";}#sk-container-id-2 div.sk-estimator input.sk-toggleable__control:checked~label.sk-toggleable__label {background-color: #d4ebff;}#sk-container-id-2 div.sk-label input.sk-toggleable__control:checked~label.sk-toggleable__label {background-color: #d4ebff;}#sk-container-id-2 input.sk-hidden--visually {border: 0;clip: rect(1px 1px 1px 1px);clip: rect(1px, 1px, 1px, 1px);height: 1px;margin: -1px;overflow: hidden;padding: 0;position: absolute;width: 1px;}#sk-container-id-2 div.sk-estimator {font-family: monospace;background-color: #f0f8ff;border: 1px dotted black;border-radius: 0.25em;box-sizing: border-box;margin-bottom: 0.5em;}#sk-container-id-2 div.sk-estimator:hover {background-color: #d4ebff;}#sk-container-id-2 div.sk-parallel-item::after {content: \"\";width: 100%;border-bottom: 1px solid gray;flex-grow: 1;}#sk-container-id-2 div.sk-label:hover label.sk-toggleable__label {background-color: #d4ebff;}#sk-container-id-2 div.sk-serial::before {content: \"\";position: absolute;border-left: 1px solid gray;box-sizing: border-box;top: 0;bottom: 0;left: 50%;z-index: 0;}#sk-container-id-2 div.sk-serial {display: flex;flex-direction: column;align-items: center;background-color: white;padding-right: 0.2em;padding-left: 0.2em;position: relative;}#sk-container-id-2 div.sk-item {position: relative;z-index: 1;}#sk-container-id-2 div.sk-parallel {display: flex;align-items: stretch;justify-content: center;background-color: white;position: relative;}#sk-container-id-2 div.sk-item::before, #sk-container-id-2 div.sk-parallel-item::before {content: \"\";position: absolute;border-left: 1px solid gray;box-sizing: border-box;top: 0;bottom: 0;left: 50%;z-index: -1;}#sk-container-id-2 div.sk-parallel-item {display: flex;flex-direction: column;z-index: 1;position: relative;background-color: white;}#sk-container-id-2 div.sk-parallel-item:first-child::after {align-self: flex-end;width: 50%;}#sk-container-id-2 div.sk-parallel-item:last-child::after {align-self: flex-start;width: 50%;}#sk-container-id-2 div.sk-parallel-item:only-child::after {width: 0;}#sk-container-id-2 div.sk-dashed-wrapped {border: 1px dashed gray;margin: 0 0.4em 0.5em 0.4em;box-sizing: border-box;padding-bottom: 0.4em;background-color: white;}#sk-container-id-2 div.sk-label label {font-family: monospace;font-weight: bold;display: inline-block;line-height: 1.2em;}#sk-container-id-2 div.sk-label-container {text-align: center;}#sk-container-id-2 div.sk-container {/* jupyter's `normalize.less` sets `[hidden] { display: none; }` but bootstrap.min.css set `[hidden] { display: none !important; }` so we also need the `!important` here to be able to override the default hidden behavior on the sphinx rendered scikit-learn.org. See: https://github.com/scikit-learn/scikit-learn/issues/21755 */display: inline-block !important;position: relative;}#sk-container-id-2 div.sk-text-repr-fallback {display: none;}</style><div id=\"sk-container-id-2\" class=\"sk-top-container\"><div class=\"sk-text-repr-fallback\"><pre>DecisionTreeClassifier(random_state=0)</pre><b>In a Jupyter environment, please rerun this cell to show the HTML representation or trust the notebook. <br />On GitHub, the HTML representation is unable to render, please try loading this page with nbviewer.org.</b></div><div class=\"sk-container\" hidden><div class=\"sk-item\"><div class=\"sk-estimator sk-toggleable\"><input class=\"sk-toggleable__control sk-hidden--visually\" id=\"sk-estimator-id-2\" type=\"checkbox\" checked><label for=\"sk-estimator-id-2\" class=\"sk-toggleable__label sk-toggleable__label-arrow\">DecisionTreeClassifier</label><div class=\"sk-toggleable__content\"><pre>DecisionTreeClassifier(random_state=0)</pre></div></div></div></div></div>"
      ],
      "text/plain": [
       "DecisionTreeClassifier(random_state=0)"
      ]
     },
     "execution_count": 12,
     "metadata": {},
     "output_type": "execute_result"
    }
   ],
   "source": [
    "#Step 9\n",
    "# Building Decision tree classifier\n",
    "from sklearn.tree import DecisionTreeClassifier\n",
    "classifier = DecisionTreeClassifier(random_state=0)\n",
    "classifier.fit(X_train , y_train)"
   ]
  },
  {
   "cell_type": "code",
   "execution_count": 13,
   "id": "3b13d163",
   "metadata": {},
   "outputs": [
    {
     "data": {
      "image/png": "[encoded data removed]",
      "text/plain": [
       "<Figure size 640x480 with 2 Axes>"
      ]
     },
     "metadata": {},
     "output_type": "display_data"
    }
   ],
   "source": [
    "#Step 10, testing the model with test dataset\n",
    "y_pred2 = classifier.predict(X_test)\n",
    "dtscore = accuracy_score(y_test, y_pred)\n",
    "# Plot confusion matrix\n",
    "confusion_matrix_ = pd.crosstab(y_test, y_pred2, rownames=['Actual'], colnames=['Predicted'])\n",
    "sns.heatmap(confusion_matrix_, fmt='d')\n",
    "plt.title('Confusion Matrix - Decision Tree Regressor')\n",
    "plt.show()"
   ]
  },
  {
   "cell_type": "code",
   "execution_count": 14,
   "id": "10cea095",
   "metadata": {},
   "outputs": [],
   "source": [
    "#Step 11\n",
    "#Building Linear Regression \n",
    "from sklearn.linear_model import LinearRegression\n",
    "lnRegressor = LinearRegression()\n",
    "X_regression = dataset[ : , 6]  # age\n",
    "y_regression = dataset[ : , 9] # POST UTME outcome"
   ]
  },
  {
   "cell_type": "code",
   "execution_count": 18,
   "id": "8f3df91c",
   "metadata": {},
   "outputs": [
    {
     "name": "stdout",
     "output_type": "stream",
     "text": [
      "0.0934803031925992\n"
     ]
    }
   ],
   "source": [
    "from sklearn.model_selection import train_test_split\n",
    "X_train , X_test , y_train , y_test = train_test_split(X_regression , y_regression, test_size=0.25)\n",
    "lnRegressor.fit(X_train.reshape(-1, 1) , y_train.reshape(-1, 1) )\n",
    "#Step 12, testing the model with test dataset\n",
    "y_pred = lnRegressor.predict(X_train.reshape(-1, 1))\n",
    "lnscore = lnRegressor.coef_[0][0]\n",
    "print(lnscore) # Linear regressor accuracy using coefficient of correlation"
   ]
  },
  {
   "cell_type": "code",
   "execution_count": 19,
   "id": "5c932c11",
   "metadata": {},
   "outputs": [
    {
     "data": {
      "image/png": "[encoded data removed]",
      "text/plain": [
       "<Figure size 640x480 with 1 Axes>"
      ]
     },
     "metadata": {},
     "output_type": "display_data"
    }
   ],
   "source": [
    "# Plotting Linear regression graph\n",
    "plt.xlabel(\"Age\")\n",
    "plt.ylabel(\"UTME SCORE\")\n",
    "plt.scatter(X_train.reshape(-1, 1) , y_train.reshape(-1, 1) , color='green' )\n",
    "plt.plot(X_train.reshape(-1, 1) , y_pred, color='red')\n",
    "plt.show()"
   ]
  },
  {
   "cell_type": "code",
   "execution_count": 20,
   "id": "c03af124",
   "metadata": {},
   "outputs": [
    {
     "data": {
      "image/png": "[encoded data removed]",
      "text/plain": [
       "<Figure size 640x480 with 1 Axes>"
      ]
     },
     "metadata": {},
     "output_type": "display_data"
    }
   ],
   "source": [
    "#Step 13\n",
    "# plotting pie chart for gender \n",
    "genders = data.iloc[: , 3 ].values\n",
    "males = []\n",
    "females = []\n",
    "for g in genders:\n",
    "    if g.lower() == \"male\":\n",
    "        males.append(g.lower())\n",
    "    else:\n",
    "        females.append(g.lower())\n",
    "gender_label = ['Male' , 'Female' ]\n",
    "gender_count = [males.count(\"male\") , females.count('female')]\n",
    "fig, ax = plt.subplots()\n",
    "plt.pie(gender_count , labels=gender_label , autopct='%1.1f%%', shadow=True, startangle=90)\n",
    "plt.show()"
   ]
  },
  {
   "cell_type": "code",
   "execution_count": 21,
   "id": "8c36c245",
   "metadata": {},
   "outputs": [
    {
     "data": {
      "image/png": "[encoded data removed]",
      "text/plain": [
       "<Figure size 640x480 with 1 Axes>"
      ]
     },
     "metadata": {},
     "output_type": "display_data"
    }
   ],
   "source": [
    "#Step 14 accuracy comparison\n",
    "model_names = [\"Linear Regression\" , \"Logistic Regression\" , \"Decision Treee\"]\n",
    "model_scores =[lnscore , lgscore, dtscore]\n",
    "plt.bar(model_names, model_scores)\n",
    "plt.show()"
   ]
  },
  {
   "cell_type": "code",
   "execution_count": null,
   "id": "082c013d",
   "metadata": {},
   "outputs": [],
   "source": []
  }
 ],
 "metadata": {
  "kernelspec": {
   "display_name": "Python 3 (ipykernel)",
   "language": "python",
   "name": "python3"
  },
  "language_info": {
   "codemirror_mode": {
    "name": "ipython",
    "version": 3
   },
   "file_extension": ".py",
   "mimetype": "text/x-python",
   "name": "python",
   "nbconvert_exporter": "python",
   "pygments_lexer": "ipython3",
   "version": "3.11.3"
  }
 },
 "nbformat": 4,
 "nbformat_minor": 5
}
